{
  "nbformat": 4,
  "nbformat_minor": 0,
  "metadata": {
    "colab": {
      "provenance": []
    },
    "kernelspec": {
      "name": "python3",
      "display_name": "Python 3"
    },
    "language_info": {
      "name": "python"
    }
  },
  "cells": [
    {
      "cell_type": "markdown",
      "metadata": {
        "id": "eK286F_ETiAJ"
      },
      "source": [
        "**Implementación de una Máquina de Estados Finito (FSM) Interactiva**\n",
        "\n",
        "Este programa implementa un reconocedor de entradas de un usuario basado en una FSM predefinida. Requiere que el diseñador especifique la *tabla de transición*.\n",
        "\n",
        "Primero, necesitamos instalar algunos paquetes:"
      ]
    },
    {
      "cell_type": "code",
      "source": [
        "!pip install spacy\n",
        "!python -m spacy download es_core_news_sm"
      ],
      "metadata": {
        "id": "C2Sl2QjFSyNH"
      },
      "execution_count": null,
      "outputs": []
    },
    {
      "cell_type": "markdown",
      "metadata": {
        "id": "FlTthYbt3hBv"
      },
      "source": [
        "Importamos algunas bibliotecas que necesitaremos:"
      ]
    },
    {
      "cell_type": "code",
      "metadata": {
        "id": "qtE6TXF8UgcH"
      },
      "source": [
        "import re\n",
        "import es_core_news_sm"
      ],
      "execution_count": 2,
      "outputs": []
    },
    {
      "cell_type": "markdown",
      "metadata": {
        "id": "nTimcNlry3Np"
      },
      "source": [
        "Además, re-utilizamos nuestra función para lematizar una oración:"
      ]
    },
    {
      "cell_type": "code",
      "metadata": {
        "id": "7U4kS4dhy9Ey"
      },
      "source": [
        "def Lematizar(oracion):\n",
        "   doc = nlp(oracion)\n",
        "   lemas = [token.lemma_ for token in doc]\n",
        "   return(\" \".join(lemas))"
      ],
      "execution_count": 3,
      "outputs": []
    },
    {
      "cell_type": "markdown",
      "source": [
        "Ahora, definimos el método **LeerRespuesta(pregunta, patron)**, que lee una respuesta hablada del usuario a partir de una **pregunta** dada por el FA. En el caso de que la respuesta \"calce\" con algunos de los símbolos permitidos en **patron** (i.e., símbolos de *Sigma*), se retorna el calce:"
      ],
      "metadata": {
        "id": "H9xlsJR6T73e"
      }
    },
    {
      "cell_type": "code",
      "source": [
        "def LeerRespuesta(pregunta,patron):\n",
        "        texto = input(pregunta)\n",
        "        # Probar que la frase contenga alguno de los símbolos del patron\n",
        "        calce = re.search(patron,texto)\n",
        "        if calce != None:\n",
        "           return(calce.group(0))\n",
        "        else:\n",
        "           return(\"nada\")"
      ],
      "metadata": {
        "id": "MHlArWUSTs9H"
      },
      "execution_count": 4,
      "outputs": []
    },
    {
      "cell_type": "markdown",
      "metadata": {
        "id": "ul6Cy_C0CKlt"
      },
      "source": [
        "Luego, definimos el reconocedor basado en el FSM con la función **FSM(q0,F,Sigma,Preguntas,TablaTrans)**. Esta recibe el estado inicial (**Q0**) y final (**F**), el vocabulario **Sigma**, la lista de **Preguntas** para cada estado, y la tabla de transición **TablaTrans** que el FSM debe recorrer. La función retorna *True* si la entrada completa se reconoce, o *False*, en caso contrario.\n",
        "\n",
        "Recuerde que el lenguaje a reconocer es el dado por el siguiente autómata:\n",
        "\n",
        "<img src=\"https://drive.google.com/uc?id=1C-0X7inkaOesCbNqZFbYb50qY3ZNF38k\" width=\"500\" >\n",
        "\n",
        "El algoritmo que implementa un FSM, dada una tabla de transición, es el siguiente:\n",
        "\n",
        "* *q = estado inicial*\n",
        "* *F = conjunto de estados finales (podría haber más de uno)*\n",
        "* *Repita mientras q no está en F  o no sea un estado de error:*\n",
        "   * *Simbolo = Entrada leida del usuario*\n",
        "   * *(Actualizar el estado)*\n",
        "   * *q = TablaTransicion[q][Simbolo]*\n",
        "   * *(Validar que el simbolo exista para el estado actual)*\n",
        "* *Fin repetición*\n",
        "* *Si q está en F Entonces retorne TRUE (reconoce)*\n",
        "* *Sino retorne FALSE (no reconoce)*\n"
      ]
    },
    {
      "cell_type": "code",
      "metadata": {
        "id": "7NBdaJbg1Dij"
      },
      "source": [
        "def FSM(Q0,F,Sigma,Preguntas,TablaTrans):\n",
        "    q=Q0    # Estado inicial\n",
        "    patron = \"|\".join(Sigma)\n",
        "    # Repita mientras no sea un estado final o error\n",
        "    while ( not(q in F)   and  (q != _ERROR)):\n",
        "        Simbolo  = LeerRespuesta(Preguntas[q],patron)\n",
        "        # Verifique que exista el índice \"Simbolo\"\n",
        "        try:\n",
        "           TablaTrans[q][Simbolo]\n",
        "        except KeyError:\n",
        "           q = _ERROR\n",
        "           break\n",
        "        # Asigne el siguiente estado de la tabla o bien ERROR si no existe\n",
        "        q = (_ERROR if (not(Simbolo in Sigma)) else TablaTrans[q][Simbolo])\n",
        "    return(q in F)"
      ],
      "execution_count": 10,
      "outputs": []
    },
    {
      "cell_type": "markdown",
      "metadata": {
        "id": "m8vc6Tyx15Mw"
      },
      "source": [
        "Necesitamos, una función que inicialice y defina los estados del FA, por lo que definimos la función **InicializarFA(nQ,Sigma)**, que toma el número de estados **nQ** de la máquina y el vocabulario **Sigma**, e inicializa los estados de la tabla de transición, según el grafo de interacción especificado en clases. La función retorna la tabla de transición llena (por defecto, los estados inválidos se llenan con un valor de **ERROR**).\n",
        "\n",
        "Note que la matriz (tabla) de transición (*tt*) la podemos acceder por *fila* y *columna*, donde *fila* es el índice de un estado y *columna* es un símbolo del alfabeto **Sigma** (esto evita recordar la posición de los símbolos):"
      ]
    },
    {
      "cell_type": "code",
      "metadata": {
        "id": "tjCSqPtk2jVS"
      },
      "source": [
        "def InicializarFSM(nQ,Sigma):\n",
        "   tt = {}\n",
        "   # Crear tabla de transición vacia (con valor de error)\n",
        "   for numQ in range (nQ):\n",
        "      tt[numQ] = {}\n",
        "      for Simb in Sigma:\n",
        "         tt[numQ][Simb] = _ERROR\n",
        "   # LLenar transiciones no vacias\n",
        "   tt[0]['internet']        = 1\n",
        "   tt[0]['teléfono']        = 2\n",
        "   tt[1]['tarjeta']         = 1\n",
        "   tt[1]['mensual']         = 3\n",
        "   tt[2]['casa']            = 3\n",
        "   tt[2]['departamento']    = 1\n",
        "   return(tt)"
      ],
      "execution_count": 6,
      "outputs": []
    },
    {
      "cell_type": "markdown",
      "metadata": {
        "id": "3ajsb0FU2wD-"
      },
      "source": [
        "Ahora definimos la función **EspecificarPreguntas()**, que simplemente especifica las preguntas que el FA realizará al usuario en cada estado, retornando la lista de preguntas posibles (existe una pregunta por cada estado, exceptuando el final):"
      ]
    },
    {
      "cell_type": "code",
      "metadata": {
        "id": "Uzy1ghdV2ov_"
      },
      "source": [
        "def EspecificarPreguntas():\n",
        "   Preguntas = [\"Qué servicio requiere? \",\n",
        "                \"¿Qué tipo de cliente? \",\n",
        "                \"¿En qué residencia? \"\n",
        "            ]\n",
        "   return(Preguntas)"
      ],
      "execution_count": 7,
      "outputs": []
    },
    {
      "cell_type": "markdown",
      "metadata": {
        "id": "80TgcqCV3B3U"
      },
      "source": [
        "Ahora, invocamos el programa principal:"
      ]
    },
    {
      "cell_type": "code",
      "metadata": {
        "id": "8oIxZsCRTXlZ"
      },
      "source": [
        "# Cargamos modelo de lenguaje en Español\n",
        "nlp       = es_core_news_sm.load()\n",
        "# Estado de error\n",
        "_ERROR=(-1)\n",
        "# Numero de estados\n",
        "Num_Q=4\n",
        "# Vocabulario (alfabeto) de la máquina:\n",
        "Sigma = {'internet','teléfono','tarjeta','mensual','casa','departamento'}\n",
        "q0=0    # Estado inicial\n",
        "F={3}   # Estados finales\n",
        "TablaTransicion = InicializarFSM(Num_Q,Sigma)\n",
        "Preguntas  = EspecificarPreguntas()"
      ],
      "execution_count": 13,
      "outputs": []
    },
    {
      "cell_type": "markdown",
      "source": [
        "Comenzamos la interacción con la FSM:"
      ],
      "metadata": {
        "id": "T97C7jtVV_Xy"
      }
    },
    {
      "cell_type": "code",
      "source": [
        "print(\"Bienvenido a MasterPlop Comunicaciones..\")\n",
        "status = FSM(q0,F,Sigma,Preguntas,TablaTransicion)\n",
        "if (status):\n",
        "    print(\"Transacción aceptada!\")\n",
        "else:\n",
        "    print(\"Error, no se entendió la consulta!\")"
      ],
      "metadata": {
        "id": "3VZpHPIeV47K"
      },
      "execution_count": null,
      "outputs": []
    }
  ]
}