{
  "cells": [
    {
      "cell_type": "markdown",
      "metadata": {
        "id": "eK286F_ETiAJ"
      },
      "source": [
        "**Implementación de una Máquina de Estados Finito (FSM) Interactiva**\n",
        "\n",
        "Este programa implementa un reconocedor de entradas de un usuario basado en una FSM predefinida. Requiere que el diseñador especifique la *tabla de transición*.\n",
        "\n",
        "Primero, necesitamos instalar algunos paquetes:"
      ]
    },
    {
      "cell_type": "code",
      "execution_count": 1,
      "metadata": {
        "id": "C2Sl2QjFSyNH"
      },
      "outputs": [
        {
          "name": "stdout",
          "output_type": "stream",
          "text": [
            "Requirement already satisfied: spacy in c:\\users\\karin\\anaconda3\\lib\\site-packages (3.7.2)\n",
            "Requirement already satisfied: thinc<8.3.0,>=8.1.8 in c:\\users\\karin\\anaconda3\\lib\\site-packages (from spacy) (8.2.1)\n",
            "Requirement already satisfied: srsly<3.0.0,>=2.4.3 in c:\\users\\karin\\anaconda3\\lib\\site-packages (from spacy) (2.4.8)\n",
            "Requirement already satisfied: tqdm<5.0.0,>=4.38.0 in c:\\users\\karin\\anaconda3\\lib\\site-packages (from spacy) (4.62.3)\n",
            "Requirement already satisfied: smart-open<7.0.0,>=5.2.1 in c:\\users\\karin\\anaconda3\\lib\\site-packages (from spacy) (6.4.0)\n",
            "Requirement already satisfied: catalogue<2.1.0,>=2.0.6 in c:\\users\\karin\\anaconda3\\lib\\site-packages (from spacy) (2.0.10)\n",
            "Requirement already satisfied: requests<3.0.0,>=2.13.0 in c:\\users\\karin\\anaconda3\\lib\\site-packages (from spacy) (2.26.0)\n",
            "Requirement already satisfied: wasabi<1.2.0,>=0.9.1 in c:\\users\\karin\\anaconda3\\lib\\site-packages (from spacy) (1.1.2)\n",
            "Requirement already satisfied: spacy-loggers<2.0.0,>=1.0.0 in c:\\users\\karin\\anaconda3\\lib\\site-packages (from spacy) (1.0.5)\n",
            "Requirement already satisfied: pydantic!=1.8,!=1.8.1,<3.0.0,>=1.7.4 in c:\\users\\karin\\anaconda3\\lib\\site-packages (from spacy) (2.5.2)\n",
            "Requirement already satisfied: setuptools in c:\\users\\karin\\anaconda3\\lib\\site-packages (from spacy) (58.0.4)\n",
            "Requirement already satisfied: langcodes<4.0.0,>=3.2.0 in c:\\users\\karin\\anaconda3\\lib\\site-packages (from spacy) (3.3.0)\n",
            "Requirement already satisfied: murmurhash<1.1.0,>=0.28.0 in c:\\users\\karin\\anaconda3\\lib\\site-packages (from spacy) (1.0.10)\n",
            "Requirement already satisfied: weasel<0.4.0,>=0.1.0 in c:\\users\\karin\\anaconda3\\lib\\site-packages (from spacy) (0.3.4)\n",
            "Requirement already satisfied: jinja2 in c:\\users\\karin\\anaconda3\\lib\\site-packages (from spacy) (2.11.3)\n",
            "Requirement already satisfied: preshed<3.1.0,>=3.0.2 in c:\\users\\karin\\anaconda3\\lib\\site-packages (from spacy) (3.0.9)\n",
            "Requirement already satisfied: packaging>=20.0 in c:\\users\\karin\\anaconda3\\lib\\site-packages (from spacy) (21.0)\n",
            "Requirement already satisfied: typer<0.10.0,>=0.3.0 in c:\\users\\karin\\anaconda3\\lib\\site-packages (from spacy) (0.9.0)\n",
            "Requirement already satisfied: spacy-legacy<3.1.0,>=3.0.11 in c:\\users\\karin\\anaconda3\\lib\\site-packages (from spacy) (3.0.12)\n",
            "Requirement already satisfied: cymem<2.1.0,>=2.0.2 in c:\\users\\karin\\anaconda3\\lib\\site-packages (from spacy) (2.0.8)\n",
            "Requirement already satisfied: numpy>=1.19.0 in c:\\users\\karin\\anaconda3\\lib\\site-packages (from spacy) (1.20.3)\n",
            "Requirement already satisfied: pyparsing>=2.0.2 in c:\\users\\karin\\anaconda3\\lib\\site-packages (from packaging>=20.0->spacy) (3.0.4)\n",
            "Requirement already satisfied: pydantic-core==2.14.5 in c:\\users\\karin\\anaconda3\\lib\\site-packages (from pydantic!=1.8,!=1.8.1,<3.0.0,>=1.7.4->spacy) (2.14.5)\n",
            "Requirement already satisfied: annotated-types>=0.4.0 in c:\\users\\karin\\anaconda3\\lib\\site-packages (from pydantic!=1.8,!=1.8.1,<3.0.0,>=1.7.4->spacy) (0.6.0)\n",
            "Requirement already satisfied: typing-extensions>=4.6.1 in c:\\users\\karin\\anaconda3\\lib\\site-packages (from pydantic!=1.8,!=1.8.1,<3.0.0,>=1.7.4->spacy) (4.8.0)\n",
            "Requirement already satisfied: charset-normalizer~=2.0.0 in c:\\users\\karin\\anaconda3\\lib\\site-packages (from requests<3.0.0,>=2.13.0->spacy) (2.0.4)\n",
            "Requirement already satisfied: idna<4,>=2.5 in c:\\users\\karin\\anaconda3\\lib\\site-packages (from requests<3.0.0,>=2.13.0->spacy) (3.2)\n",
            "Requirement already satisfied: urllib3<1.27,>=1.21.1 in c:\\users\\karin\\anaconda3\\lib\\site-packages (from requests<3.0.0,>=2.13.0->spacy) (1.26.7)\n",
            "Requirement already satisfied: certifi>=2017.4.17 in c:\\users\\karin\\anaconda3\\lib\\site-packages (from requests<3.0.0,>=2.13.0->spacy) (2021.10.8)\n",
            "Requirement already satisfied: confection<1.0.0,>=0.0.1 in c:\\users\\karin\\anaconda3\\lib\\site-packages (from thinc<8.3.0,>=8.1.8->spacy) (0.1.4)\n",
            "Requirement already satisfied: blis<0.8.0,>=0.7.8 in c:\\users\\karin\\anaconda3\\lib\\site-packages (from thinc<8.3.0,>=8.1.8->spacy) (0.7.11)\n",
            "Requirement already satisfied: colorama in c:\\users\\karin\\anaconda3\\lib\\site-packages (from tqdm<5.0.0,>=4.38.0->spacy) (0.4.6)\n",
            "Requirement already satisfied: click<9.0.0,>=7.1.1 in c:\\users\\karin\\anaconda3\\lib\\site-packages (from typer<0.10.0,>=0.3.0->spacy) (8.0.3)\n",
            "Requirement already satisfied: cloudpathlib<0.17.0,>=0.7.0 in c:\\users\\karin\\anaconda3\\lib\\site-packages (from weasel<0.4.0,>=0.1.0->spacy) (0.16.0)\n",
            "Requirement already satisfied: MarkupSafe>=0.23 in c:\\users\\karin\\anaconda3\\lib\\site-packages (from jinja2->spacy) (1.1.1)\n",
            "Note: you may need to restart the kernel to use updated packages.\n",
            "Collecting es-core-news-sm==3.7.0\n",
            "  Downloading https://github.com/explosion/spacy-models/releases/download/es_core_news_sm-3.7.0/es_core_news_sm-3.7.0-py3-none-any.whl (12.9 MB)\n",
            "Requirement already satisfied: spacy<3.8.0,>=3.7.0 in c:\\users\\karin\\anaconda3\\lib\\site-packages (from es-core-news-sm==3.7.0) (3.7.2)\n",
            "Requirement already satisfied: spacy-legacy<3.1.0,>=3.0.11 in c:\\users\\karin\\anaconda3\\lib\\site-packages (from spacy<3.8.0,>=3.7.0->es-core-news-sm==3.7.0) (3.0.12)\n",
            "Requirement already satisfied: preshed<3.1.0,>=3.0.2 in c:\\users\\karin\\anaconda3\\lib\\site-packages (from spacy<3.8.0,>=3.7.0->es-core-news-sm==3.7.0) (3.0.9)\n",
            "Requirement already satisfied: setuptools in c:\\users\\karin\\anaconda3\\lib\\site-packages (from spacy<3.8.0,>=3.7.0->es-core-news-sm==3.7.0) (58.0.4)\n",
            "Requirement already satisfied: typer<0.10.0,>=0.3.0 in c:\\users\\karin\\anaconda3\\lib\\site-packages (from spacy<3.8.0,>=3.7.0->es-core-news-sm==3.7.0) (0.9.0)\n",
            "Requirement already satisfied: jinja2 in c:\\users\\karin\\anaconda3\\lib\\site-packages (from spacy<3.8.0,>=3.7.0->es-core-news-sm==3.7.0) (2.11.3)\n",
            "Requirement already satisfied: wasabi<1.2.0,>=0.9.1 in c:\\users\\karin\\anaconda3\\lib\\site-packages (from spacy<3.8.0,>=3.7.0->es-core-news-sm==3.7.0) (1.1.2)\n",
            "Requirement already satisfied: catalogue<2.1.0,>=2.0.6 in c:\\users\\karin\\anaconda3\\lib\\site-packages (from spacy<3.8.0,>=3.7.0->es-core-news-sm==3.7.0) (2.0.10)\n",
            "Requirement already satisfied: packaging>=20.0 in c:\\users\\karin\\anaconda3\\lib\\site-packages (from spacy<3.8.0,>=3.7.0->es-core-news-sm==3.7.0) (21.0)\n",
            "Requirement already satisfied: numpy>=1.19.0 in c:\\users\\karin\\anaconda3\\lib\\site-packages (from spacy<3.8.0,>=3.7.0->es-core-news-sm==3.7.0) (1.20.3)\n",
            "Requirement already satisfied: langcodes<4.0.0,>=3.2.0 in c:\\users\\karin\\anaconda3\\lib\\site-packages (from spacy<3.8.0,>=3.7.0->es-core-news-sm==3.7.0) (3.3.0)\n",
            "Requirement already satisfied: requests<3.0.0,>=2.13.0 in c:\\users\\karin\\anaconda3\\lib\\site-packages (from spacy<3.8.0,>=3.7.0->es-core-news-sm==3.7.0) (2.26.0)\n",
            "Requirement already satisfied: tqdm<5.0.0,>=4.38.0 in c:\\users\\karin\\anaconda3\\lib\\site-packages (from spacy<3.8.0,>=3.7.0->es-core-news-sm==3.7.0) (4.62.3)\n",
            "Requirement already satisfied: murmurhash<1.1.0,>=0.28.0 in c:\\users\\karin\\anaconda3\\lib\\site-packages (from spacy<3.8.0,>=3.7.0->es-core-news-sm==3.7.0) (1.0.10)\n",
            "Requirement already satisfied: spacy-loggers<2.0.0,>=1.0.0 in c:\\users\\karin\\anaconda3\\lib\\site-packages (from spacy<3.8.0,>=3.7.0->es-core-news-sm==3.7.0) (1.0.5)\n",
            "Requirement already satisfied: srsly<3.0.0,>=2.4.3 in c:\\users\\karin\\anaconda3\\lib\\site-packages (from spacy<3.8.0,>=3.7.0->es-core-news-sm==3.7.0) (2.4.8)\n",
            "Requirement already satisfied: weasel<0.4.0,>=0.1.0 in c:\\users\\karin\\anaconda3\\lib\\site-packages (from spacy<3.8.0,>=3.7.0->es-core-news-sm==3.7.0) (0.3.4)\n",
            "Requirement already satisfied: pydantic!=1.8,!=1.8.1,<3.0.0,>=1.7.4 in c:\\users\\karin\\anaconda3\\lib\\site-packages (from spacy<3.8.0,>=3.7.0->es-core-news-sm==3.7.0) (2.5.2)\n",
            "Requirement already satisfied: cymem<2.1.0,>=2.0.2 in c:\\users\\karin\\anaconda3\\lib\\site-packages (from spacy<3.8.0,>=3.7.0->es-core-news-sm==3.7.0) (2.0.8)\n",
            "Requirement already satisfied: smart-open<7.0.0,>=5.2.1 in c:\\users\\karin\\anaconda3\\lib\\site-packages (from spacy<3.8.0,>=3.7.0->es-core-news-sm==3.7.0) (6.4.0)\n",
            "Requirement already satisfied: thinc<8.3.0,>=8.1.8 in c:\\users\\karin\\anaconda3\\lib\\site-packages (from spacy<3.8.0,>=3.7.0->es-core-news-sm==3.7.0) (8.2.1)\n",
            "Requirement already satisfied: pyparsing>=2.0.2 in c:\\users\\karin\\anaconda3\\lib\\site-packages (from packaging>=20.0->spacy<3.8.0,>=3.7.0->es-core-news-sm==3.7.0) (3.0.4)\n",
            "Requirement already satisfied: annotated-types>=0.4.0 in c:\\users\\karin\\anaconda3\\lib\\site-packages (from pydantic!=1.8,!=1.8.1,<3.0.0,>=1.7.4->spacy<3.8.0,>=3.7.0->es-core-news-sm==3.7.0) (0.6.0)\n",
            "Requirement already satisfied: pydantic-core==2.14.5 in c:\\users\\karin\\anaconda3\\lib\\site-packages (from pydantic!=1.8,!=1.8.1,<3.0.0,>=1.7.4->spacy<3.8.0,>=3.7.0->es-core-news-sm==3.7.0) (2.14.5)\n",
            "Requirement already satisfied: typing-extensions>=4.6.1 in c:\\users\\karin\\anaconda3\\lib\\site-packages (from pydantic!=1.8,!=1.8.1,<3.0.0,>=1.7.4->spacy<3.8.0,>=3.7.0->es-core-news-sm==3.7.0) (4.8.0)\n",
            "Requirement already satisfied: certifi>=2017.4.17 in c:\\users\\karin\\anaconda3\\lib\\site-packages (from requests<3.0.0,>=2.13.0->spacy<3.8.0,>=3.7.0->es-core-news-sm==3.7.0) (2021.10.8)\n",
            "Requirement already satisfied: charset-normalizer~=2.0.0 in c:\\users\\karin\\anaconda3\\lib\\site-packages (from requests<3.0.0,>=2.13.0->spacy<3.8.0,>=3.7.0->es-core-news-sm==3.7.0) (2.0.4)\n",
            "Requirement already satisfied: idna<4,>=2.5 in c:\\users\\karin\\anaconda3\\lib\\site-packages (from requests<3.0.0,>=2.13.0->spacy<3.8.0,>=3.7.0->es-core-news-sm==3.7.0) (3.2)\n",
            "Requirement already satisfied: urllib3<1.27,>=1.21.1 in c:\\users\\karin\\anaconda3\\lib\\site-packages (from requests<3.0.0,>=2.13.0->spacy<3.8.0,>=3.7.0->es-core-news-sm==3.7.0) (1.26.7)\n",
            "Requirement already satisfied: blis<0.8.0,>=0.7.8 in c:\\users\\karin\\anaconda3\\lib\\site-packages (from thinc<8.3.0,>=8.1.8->spacy<3.8.0,>=3.7.0->es-core-news-sm==3.7.0) (0.7.11)\n",
            "Requirement already satisfied: confection<1.0.0,>=0.0.1 in c:\\users\\karin\\anaconda3\\lib\\site-packages (from thinc<8.3.0,>=8.1.8->spacy<3.8.0,>=3.7.0->es-core-news-sm==3.7.0) (0.1.4)\n",
            "Requirement already satisfied: colorama in c:\\users\\karin\\anaconda3\\lib\\site-packages (from tqdm<5.0.0,>=4.38.0->spacy<3.8.0,>=3.7.0->es-core-news-sm==3.7.0) (0.4.6)\n",
            "Requirement already satisfied: click<9.0.0,>=7.1.1 in c:\\users\\karin\\anaconda3\\lib\\site-packages (from typer<0.10.0,>=0.3.0->spacy<3.8.0,>=3.7.0->es-core-news-sm==3.7.0) (8.0.3)\n",
            "Requirement already satisfied: cloudpathlib<0.17.0,>=0.7.0 in c:\\users\\karin\\anaconda3\\lib\\site-packages (from weasel<0.4.0,>=0.1.0->spacy<3.8.0,>=3.7.0->es-core-news-sm==3.7.0) (0.16.0)\n",
            "Requirement already satisfied: MarkupSafe>=0.23 in c:\\users\\karin\\anaconda3\\lib\\site-packages (from jinja2->spacy<3.8.0,>=3.7.0->es-core-news-sm==3.7.0) (1.1.1)\n",
            "\u001b[38;5;2m✔ Download and installation successful\u001b[0m\n",
            "You can now load the package via spacy.load('es_core_news_sm')\n"
          ]
        }
      ],
      "source": [
        "%pip install spacy\n",
        "!python -m spacy download es_core_news_sm"
      ]
    },
    {
      "cell_type": "markdown",
      "metadata": {
        "id": "FlTthYbt3hBv"
      },
      "source": [
        "Importamos algunas bibliotecas que necesitaremos:"
      ]
    },
    {
      "cell_type": "code",
      "execution_count": 2,
      "metadata": {
        "id": "qtE6TXF8UgcH"
      },
      "outputs": [],
      "source": [
        "import re\n",
        "import es_core_news_sm\n",
        "from unidecode import unidecode\n",
        "import spacy\n",
        "from spacy import displacy\n",
        "from spacy.matcher import DependencyMatcher"
      ]
    },
    {
      "cell_type": "code",
      "execution_count": 3,
      "metadata": {
        "id": "8oIxZsCRTXlZ"
      },
      "outputs": [],
      "source": [
        "# Settings\n",
        "\n",
        "SlotFillings = {\n",
        "    \"ORIGEN\": {\"valor\": \"\", \"needQuestion\": True, \"pregunta\": \"¿Desde dónde quieres salir?\"},\n",
        "    \"DESTINO\": {\"valor\": \"\", \"needQuestion\": True, \"pregunta\": \"¿A dónde quieres ir?\"},\n",
        "    \"FECHA\": {\"valor\": \"\", \"needQuestion\": True, \"pregunta\": \"¿Qué día quieres salir?\"},\n",
        "    \"HORA\": {\"valor\": \"\", \"needQuestion\": True, \"pregunta\": \"¿A qué hora quieres salir?\"},\n",
        "    \"IDA/VUELTA\": {\"valor\": \"\", \"needQuestion\": True, \"pregunta\": \"¿Quieres ida y vuelta?\"},\n",
        "    \"FECHA_VUELTA\": {\"valor\": \"\", \"needQuestion\": True, \"pregunta\": \"¿Qué día quieres volver?\"},\n",
        "    \"HORA_VUELTA\": {\"valor\": \"\", \"needQuestion\": True, \"pregunta\": \"¿A qué hora quieres volver?\"}\n",
        "}\n",
        "\n",
        "_ERRORQUESTION = \"Lo siento, no te he entendido. ¿Podrías repetirlo?\"\n",
        "_WELCOMEQUESTION = \"Hola, ¿en qué puedo ayudarte?\"\n",
        "_LOGOQUESTION = \"\"\"                                _____\n",
        "                       __...---'-----`---...__\n",
        "                  _===============================\n",
        " ______________,/'      `---..._______...---'\n",
        "(____________LL). .    ,--'\n",
        " /    /.---'       `. /\n",
        "'--------_  - - - - _/\n",
        "          `~~~~~~~~'\"\"\"\n",
        "\n",
        "nlp = spacy.load('es_core_news_sm')\n",
        "\n",
        "def matcherPattern(nlp):\n",
        "    dep_matcher = DependencyMatcher(nlp.vocab)\n",
        "    patterns = [\n",
        "        [\n",
        "            {\"RIGHT_ID\": \"origen\", \"RIGHT_ATTRS\": {\"ENT_TYPE\": {\"IN\": [\"LOC\", \"GPE\"]}}},\n",
        "            {\"LEFT_ID\": \"origen\", \"REL_OP\": \">\", \"RIGHT_ID\": \"desde\", \"RIGHT_ATTRS\": {\"LOWER\": \"desde\"}}\n",
        "        ],\n",
        "        [\n",
        "            {\"RIGHT_ID\": \"origen\", \"RIGHT_ATTRS\": {\"ENT_TYPE\": {\"IN\": [\"LOC\", \"GPE\"]}}},\n",
        "            {\"LEFT_ID\": \"origen\", \"REL_OP\": \">\", \"RIGHT_ID\": \"de\", \"RIGHT_ATTRS\": {\"LOWER\": \"de\"}}\n",
        "        ],\n",
        "        [\n",
        "            {\"RIGHT_ID\": \"destino\", \"RIGHT_ATTRS\": {\"ENT_TYPE\": {\"IN\": [\"LOC\", \"GPE\"]}}},\n",
        "            {\"LEFT_ID\": \"destino\", \"REL_OP\": \">\", \"RIGHT_ID\": \"para\", \"RIGHT_ATTRS\": {\"LOWER\": \"para\"}}\n",
        "        ],\n",
        "        [\n",
        "            {\"RIGHT_ID\": \"destino\", \"RIGHT_ATTRS\": {\"ENT_TYPE\": {\"IN\": [\"LOC\", \"GPE\"]}}},\n",
        "            {\"LEFT_ID\": \"destino\", \"REL_OP\": \">\", \"RIGHT_ID\": \"a\", \"RIGHT_ATTRS\": {\"LOWER\": \"a\"}}\n",
        "        ]\n",
        "    ]\n",
        "\n",
        "    for i, pattern in enumerate(patterns):\n",
        "        dep_matcher.add(str(i), [pattern])\n",
        "\n",
        "    return dep_matcher\n",
        "\n",
        "dep_matcher = matcherPattern(nlp)"
      ]
    },
    {
      "cell_type": "code",
      "execution_count": 27,
      "metadata": {},
      "outputs": [],
      "source": [
        "class Inicio:\n",
        "    @staticmethod\n",
        "    def run():\n",
        "        print(_WELCOMEQUESTION)\n",
        "        print(_LOGOQUESTION)\n",
        "        print(\"¿En qué puedo ayudar?\")\n",
        "        return LeerRespuesta.run()\n",
        "\n",
        "class LeerRespuesta:\n",
        "    @staticmethod\n",
        "    def run():\n",
        "        try:\n",
        "            respuestaUsuario = input()\n",
        "            #respuestaUsuario = unidecode(respuestaUsuario)\n",
        "            ProcesarRespuesta.run(respuestaUsuario)\n",
        "        except:\n",
        "            print(_ERRORQUESTION)\n",
        "            #return LeerRespuesta.run()\n",
        "        \n",
        "class ProcesarRespuesta:\n",
        "    @staticmethod\n",
        "    def run(respuestaUsuario):\n",
        "        doc = nlp(respuestaUsuario)\n",
        "        #\"proceso el texto en busca de coincidencias de sigma\"\n",
        "        ProcesarRespuesta.LeerMatcher(doc)\n",
        "        ProcesarRespuesta.dibujarEntyToken(doc) #dibujo para entender las relaciones\n",
        "\n",
        "\n",
        "    @staticmethod\n",
        "    def LeerMatcher(doc):\n",
        "        matches = dep_matcher(doc)\n",
        "        for match_id, token_ids in matches:\n",
        "            string_id = nlp.vocab.strings[match_id]  # Obtener la representación de cadena del ID del matcher\n",
        "            matched_tokens = [doc[token_id] for token_id in token_ids]\n",
        "            print(f\"{string_id} encontró: {matched_tokens}\")\n",
        "\n",
        "    def dibujarEntyToken(doc):\n",
        "        for token in doc:\n",
        "            print(token.text, token.dep_, token.head.text, token.head.pos_, [child for child in token.children])\n",
        "\n",
        "        for ent in doc.ents:\n",
        "            print(ent.text, ent.label_)\n",
        "            \n",
        "        displacy.render(doc, style='dep', jupyter=True, options={'distance': 90})\n",
        "        displacy.render(doc, style=\"ent\", jupyter=True)"
      ]
    },
    {
      "cell_type": "code",
      "execution_count": null,
      "metadata": {},
      "outputs": [],
      "source": [
        "class VerificarSlotFilling:\n",
        "    @staticmethod\n",
        "    def run(respuestaUsuario):\n",
        "        #El sistema rellena todos los slot relevantes y continua con la conversación para llenar los slots restantes.\n",
        "        return \"miu\""
      ]
    },
    {
      "cell_type": "code",
      "execution_count": null,
      "metadata": {},
      "outputs": [],
      "source": [
        "class SistemaDeDialogo:\n",
        "    @staticmethod\n",
        "    def run():\n",
        "        return Inicio.run()"
      ]
    },
    {
      "cell_type": "code",
      "execution_count": 26,
      "metadata": {},
      "outputs": [
        {
          "name": "stdout",
          "output_type": "stream",
          "text": [
            "Hola, ¿en qué puedo ayudarte?\n",
            "                                _____\n",
            "                       __...---'-----`---...__\n",
            "                  _===============================\n",
            " ______________,/'      `---..._______...---'\n",
            "(____________LL). .    ,--'\n",
            " /    /.---'       `. /\n",
            "'--------_  - - - - _/\n",
            "          `~~~~~~~~'\n",
            "¿En qué puedo ayudar?\n",
            "Lo siento, no te he entendido. ¿Podrías repetirlo?\n"
          ]
        }
      ],
      "source": [
        "Inicio().run()"
      ]
    },
    {
      "cell_type": "code",
      "execution_count": null,
      "metadata": {
        "id": "7U4kS4dhy9Ey"
      },
      "outputs": [],
      "source": [
        "# @IN array oracion\n",
        "# @OUT String Lemas (concatenados)\n",
        "def Lematizar(oracion):\n",
        "   doc = nlp(oracion)\n",
        "   lemas = [token.lemma_ for token in doc]\n",
        "   return(\" \".join(lemas))"
      ]
    }
  ],
  "metadata": {
    "colab": {
      "provenance": []
    },
    "kernelspec": {
      "display_name": "Python 3",
      "name": "python3"
    },
    "language_info": {
      "codemirror_mode": {
        "name": "ipython",
        "version": 3
      },
      "file_extension": ".py",
      "mimetype": "text/x-python",
      "name": "python",
      "nbconvert_exporter": "python",
      "pygments_lexer": "ipython3",
      "version": "3.9.7"
    }
  },
  "nbformat": 4,
  "nbformat_minor": 0
}
