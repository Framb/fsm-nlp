{
  "cells": [
    {
      "cell_type": "markdown",
      "metadata": {
        "id": "eK286F_ETiAJ"
      },
      "source": [
        "**Implementación de una Máquina de Estados Finito (FSM) Interactiva**\n",
        "\n",
        "Este programa implementa un reconocedor de entradas de un usuario basado en una FSM predefinida. Requiere que el diseñador especifique la *tabla de transición*.\n",
        "\n",
        "Primero, necesitamos instalar algunos paquetes:"
      ]
    },
    {
      "cell_type": "code",
      "execution_count": 65,
      "metadata": {
        "id": "C2Sl2QjFSyNH"
      },
      "outputs": [
        {
          "name": "stdout",
          "output_type": "stream",
          "text": [
            "Requirement already satisfied: spacy in c:\\users\\karin\\anaconda3\\lib\\site-packages (3.7.2)\n",
            "Requirement already satisfied: preshed<3.1.0,>=3.0.2 in c:\\users\\karin\\anaconda3\\lib\\site-packages (from spacy) (3.0.9)\n",
            "Requirement already satisfied: murmurhash<1.1.0,>=0.28.0 in c:\\users\\karin\\anaconda3\\lib\\site-packages (from spacy) (1.0.10)\n",
            "Requirement already satisfied: jinja2 in c:\\users\\karin\\anaconda3\\lib\\site-packages (from spacy) (2.11.3)\n",
            "Requirement already satisfied: smart-open<7.0.0,>=5.2.1 in c:\\users\\karin\\anaconda3\\lib\\site-packages (from spacy) (6.4.0)\n",
            "Requirement already satisfied: pydantic!=1.8,!=1.8.1,<3.0.0,>=1.7.4 in c:\\users\\karin\\anaconda3\\lib\\site-packages (from spacy) (2.5.2)\n",
            "Requirement already satisfied: cymem<2.1.0,>=2.0.2 in c:\\users\\karin\\anaconda3\\lib\\site-packages (from spacy) (2.0.8)\n",
            "Requirement already satisfied: wasabi<1.2.0,>=0.9.1 in c:\\users\\karin\\anaconda3\\lib\\site-packages (from spacy) (1.1.2)\n",
            "Requirement already satisfied: packaging>=20.0 in c:\\users\\karin\\anaconda3\\lib\\site-packages (from spacy) (21.0)\n",
            "Requirement already satisfied: spacy-legacy<3.1.0,>=3.0.11 in c:\\users\\karin\\anaconda3\\lib\\site-packages (from spacy) (3.0.12)\n",
            "Requirement already satisfied: numpy>=1.19.0 in c:\\users\\karin\\anaconda3\\lib\\site-packages (from spacy) (1.20.3)\n",
            "Requirement already satisfied: srsly<3.0.0,>=2.4.3 in c:\\users\\karin\\anaconda3\\lib\\site-packages (from spacy) (2.4.8)\n",
            "Requirement already satisfied: requests<3.0.0,>=2.13.0 in c:\\users\\karin\\anaconda3\\lib\\site-packages (from spacy) (2.26.0)\n",
            "Requirement already satisfied: spacy-loggers<2.0.0,>=1.0.0 in c:\\users\\karin\\anaconda3\\lib\\site-packages (from spacy) (1.0.5)\n",
            "Requirement already satisfied: setuptools in c:\\users\\karin\\anaconda3\\lib\\site-packages (from spacy) (58.0.4)\n",
            "Requirement already satisfied: langcodes<4.0.0,>=3.2.0 in c:\\users\\karin\\anaconda3\\lib\\site-packages (from spacy) (3.3.0)\n",
            "Requirement already satisfied: thinc<8.3.0,>=8.1.8 in c:\\users\\karin\\anaconda3\\lib\\site-packages (from spacy) (8.2.1)\n",
            "Requirement already satisfied: typer<0.10.0,>=0.3.0 in c:\\users\\karin\\anaconda3\\lib\\site-packages (from spacy) (0.9.0)\n",
            "Requirement already satisfied: weasel<0.4.0,>=0.1.0 in c:\\users\\karin\\anaconda3\\lib\\site-packages (from spacy) (0.3.4)\n",
            "Requirement already satisfied: tqdm<5.0.0,>=4.38.0 in c:\\users\\karin\\anaconda3\\lib\\site-packages (from spacy) (4.62.3)\n",
            "Requirement already satisfied: catalogue<2.1.0,>=2.0.6 in c:\\users\\karin\\anaconda3\\lib\\site-packages (from spacy) (2.0.10)\n",
            "Requirement already satisfied: pyparsing>=2.0.2 in c:\\users\\karin\\anaconda3\\lib\\site-packages (from packaging>=20.0->spacy) (3.0.4)\n",
            "Requirement already satisfied: annotated-types>=0.4.0 in c:\\users\\karin\\anaconda3\\lib\\site-packages (from pydantic!=1.8,!=1.8.1,<3.0.0,>=1.7.4->spacy) (0.6.0)\n",
            "Requirement already satisfied: typing-extensions>=4.6.1 in c:\\users\\karin\\anaconda3\\lib\\site-packages (from pydantic!=1.8,!=1.8.1,<3.0.0,>=1.7.4->spacy) (4.8.0)\n",
            "Requirement already satisfied: pydantic-core==2.14.5 in c:\\users\\karin\\anaconda3\\lib\\site-packages (from pydantic!=1.8,!=1.8.1,<3.0.0,>=1.7.4->spacy) (2.14.5)\n",
            "Requirement already satisfied: certifi>=2017.4.17 in c:\\users\\karin\\anaconda3\\lib\\site-packages (from requests<3.0.0,>=2.13.0->spacy) (2021.10.8)\n",
            "Requirement already satisfied: urllib3<1.27,>=1.21.1 in c:\\users\\karin\\anaconda3\\lib\\site-packages (from requests<3.0.0,>=2.13.0->spacy) (1.26.7)\n",
            "Requirement already satisfied: idna<4,>=2.5 in c:\\users\\karin\\anaconda3\\lib\\site-packages (from requests<3.0.0,>=2.13.0->spacy) (3.2)\n",
            "Requirement already satisfied: charset-normalizer~=2.0.0 in c:\\users\\karin\\anaconda3\\lib\\site-packages (from requests<3.0.0,>=2.13.0->spacy) (2.0.4)\n",
            "Requirement already satisfied: confection<1.0.0,>=0.0.1 in c:\\users\\karin\\anaconda3\\lib\\site-packages (from thinc<8.3.0,>=8.1.8->spacy) (0.1.4)\n",
            "Requirement already satisfied: blis<0.8.0,>=0.7.8 in c:\\users\\karin\\anaconda3\\lib\\site-packages (from thinc<8.3.0,>=8.1.8->spacy) (0.7.11)\n",
            "Requirement already satisfied: colorama in c:\\users\\karin\\anaconda3\\lib\\site-packages (from tqdm<5.0.0,>=4.38.0->spacy) (0.4.6)\n",
            "Requirement already satisfied: click<9.0.0,>=7.1.1 in c:\\users\\karin\\anaconda3\\lib\\site-packages (from typer<0.10.0,>=0.3.0->spacy) (8.0.3)\n",
            "Requirement already satisfied: cloudpathlib<0.17.0,>=0.7.0 in c:\\users\\karin\\anaconda3\\lib\\site-packages (from weasel<0.4.0,>=0.1.0->spacy) (0.16.0)\n",
            "Requirement already satisfied: MarkupSafe>=0.23 in c:\\users\\karin\\anaconda3\\lib\\site-packages (from jinja2->spacy) (1.1.1)\n",
            "Note: you may need to restart the kernel to use updated packages.\n"
          ]
        },
        {
          "name": "stderr",
          "output_type": "stream",
          "text": [
            "UsageError: Line magic function `%python` not found (But cell magic `%%python` exists, did you mean that instead?).\n"
          ]
        }
      ],
      "source": [
        "%pip install spacy\n",
        "%python -m spacy download es_core_news_sm"
      ]
    },
    {
      "cell_type": "markdown",
      "metadata": {
        "id": "FlTthYbt3hBv"
      },
      "source": [
        "Importamos algunas bibliotecas que necesitaremos:"
      ]
    },
    {
      "cell_type": "code",
      "execution_count": 66,
      "metadata": {
        "id": "qtE6TXF8UgcH"
      },
      "outputs": [],
      "source": [
        "import re\n",
        "import es_core_news_sm\n",
        "from string import punctuation\n",
        "from unidecode import unidecode\n",
        "from nltk.stem import SnowballStemmer\n",
        "from spacy.lang.es.stop_words import STOP_WORDS"
      ]
    },
    {
      "cell_type": "code",
      "execution_count": 67,
      "metadata": {
        "id": "8oIxZsCRTXlZ"
      },
      "outputs": [],
      "source": [
        "\n",
        "nlp = es_core_news_sm.load() # Cargamos modelo de lenguaje en Español\n",
        "stemmer   = SnowballStemmer('spanish')  # Modelo del stemmer en español\n",
        "_ERROR = (-1) # Estado de error\n",
        "Num_Q = 4 # Numero de estados\n",
        "# Vocabulario (alfabeto) de la máquina:\n",
        "Sigma = {'internet', 'teléfono', 'tarjeta', 'mensual', 'casa', 'departamento'}\n",
        "q0 = 0    # Estado inicial\n",
        "F = {3}   # Estados finales\n"
      ]
    },
    {
      "cell_type": "code",
      "execution_count": 68,
      "metadata": {},
      "outputs": [],
      "source": [
        "def Tokenizar(oracion):\n",
        "    doc = nlp(oracion)\n",
        "    tokens = [palabra.text for palabra in doc]\n",
        "    return(tokens)"
      ]
    },
    {
      "cell_type": "code",
      "execution_count": 69,
      "metadata": {
        "id": "7U4kS4dhy9Ey"
      },
      "outputs": [],
      "source": [
        "# @IN array oracion\n",
        "# @OUT String Lemas (concatenados)\n",
        "def Lematizar(oracion):\n",
        "   doc = nlp(oracion)\n",
        "   lemas = [token.lemma_ for token in doc]\n",
        "   return(\" \".join(lemas))"
      ]
    },
    {
      "cell_type": "code",
      "execution_count": 70,
      "metadata": {},
      "outputs": [],
      "source": [
        "def EliminaPuntuacionAcento(texto):\n",
        "    oracionsinacentos = unidecode(texto)\n",
        "    string_numeros = re.sub(r'[\\”\\“\\¿\\°]','', oracionsinacentos)\n",
        "    return ''.join(c for c in string_numeros if c not in punctuation)"
      ]
    },
    {
      "cell_type": "code",
      "execution_count": 71,
      "metadata": {},
      "outputs": [],
      "source": [
        "def Reducir(oracion): \n",
        "   tokens = Tokenizar(oracion)\n",
        "   stems = [stemmer.stem(palabra) for palabra in tokens]\n",
        "   return(\" \".join(stems))"
      ]
    },
    {
      "cell_type": "code",
      "execution_count": 72,
      "metadata": {},
      "outputs": [],
      "source": [
        "#limpieza stopwords y puntuacion (aún no se lematiza ni se reduce (stemming))    \n",
        "#@IN String oraciones\n",
        "#@OUT list texto_limpio (lista de oraciones limpias)\n",
        "def PreProcesamiento(oraciones):\n",
        "   texto = oraciones.lower()\n",
        "   texto = EliminaPuntuacionAcento(texto) \n",
        "   return (texto)\n"
      ]
    },
    {
      "cell_type": "code",
      "execution_count": 81,
      "metadata": {
        "id": "MHlArWUSTs9H"
      },
      "outputs": [],
      "source": [
        "#Ahora, definimos el método **LeerRespuesta(pregunta, patron)**, que lee una respuesta hablada del usuario a partir de \n",
        "#una **pregunta** dada por el FA. En el caso de que la respuesta \"calce\" con algunos de los símbolos permitidos en **patron** \n",
        "#(i.e., símbolos de *Sigma*), se retorna el calce:\n",
        "# @IN string pregunta\n",
        "# @IN string patron\n",
        "# @OUT string calce (solo primera coincidencia) o \"nada\"\n",
        "def LeerRespuesta(pregunta, patron):\n",
        "   \n",
        "   texto = input(pregunta)\n",
        "   # Probar que la frase contenga alguno de los símbolos del patron\n",
        "   textoLimpio = PreProcesamiento(texto)\n",
        "   lemas = Lematizar(textoLimpio)\n",
        "   reducir = Reducir(lemas)\n",
        "   print(reducir)\n",
        "   calce = re.search(patron, reducir)\n",
        "   if calce != None:\n",
        "      return(calce.group(0))\n",
        "   else:\n",
        "      return(\"nada\")\n",
        "   \n",
        "   "
      ]
    },
    {
      "cell_type": "markdown",
      "metadata": {
        "id": "ul6Cy_C0CKlt"
      },
      "source": [
        "Luego, definimos el reconocedor basado en el FSM con la función **FSM(q0,F,Sigma,Preguntas,TablaTrans)**. Esta recibe el estado inicial (**Q0**) y final (**F**), el vocabulario **Sigma**, la lista de **Preguntas** para cada estado, y la tabla de transición **TablaTrans** que el FSM debe recorrer. La función retorna *True* si la entrada completa se reconoce, o *False*, en caso contrario.\n",
        "\n",
        "Recuerde que el lenguaje a reconocer es el dado por el siguiente autómata:\n",
        "\n",
        "<img src=\"https://drive.google.com/uc?id=1C-0X7inkaOesCbNqZFbYb50qY3ZNF38k\" width=\"500\" >\n",
        "\n",
        "El algoritmo que implementa un FSM, dada una tabla de transición, es el siguiente:\n",
        "\n",
        "* *q = estado inicial*\n",
        "* *F = conjunto de estados finales (podría haber más de uno)*\n",
        "* *Repita mientras q no está en F  o no sea un estado de error:*\n",
        "   * *Simbolo = Entrada leida del usuario*\n",
        "   * *(Actualizar el estado)*\n",
        "   * *q = TablaTransicion[q][Simbolo]*\n",
        "   * *(Validar que el simbolo exista para el estado actual)*\n",
        "* *Fin repetición*\n",
        "* *Si q está en F Entonces retorne TRUE (reconoce)*\n",
        "* *Sino retorne FALSE (no reconoce)*\n"
      ]
    },
    {
      "cell_type": "code",
      "execution_count": 74,
      "metadata": {
        "id": "7NBdaJbg1Dij"
      },
      "outputs": [],
      "source": [
        "def FSM(Q0, F, Sigma, Preguntas, TablaTrans):\n",
        "    q = Q0    # Estado inicial\n",
        "    patron = \"|\".join(Sigma)\n",
        "    # Repita mientras no sea un estado final o error\n",
        "    while ( not(q in F)   and  (q != _ERROR)):\n",
        "        Simbolo  = LeerRespuesta(Preguntas[q], patron)\n",
        "        # Verifique que exista el índice \"Simbolo\"\n",
        "        try:\n",
        "           TablaTrans[q][Simbolo]\n",
        "        except KeyError:\n",
        "           q = _ERROR\n",
        "           break\n",
        "        # Asigne el siguiente estado de la tabla o bien ERROR si no existe\n",
        "        q = (_ERROR if (not(Simbolo in Sigma)) else TablaTrans[q][Simbolo])\n",
        "    return(q in F)"
      ]
    },
    {
      "cell_type": "markdown",
      "metadata": {
        "id": "m8vc6Tyx15Mw"
      },
      "source": [
        "Necesitamos, una función que inicialice y defina los estados del FA, por lo que definimos la función **InicializarFA(nQ,Sigma)**, que toma el número de estados **nQ** de la máquina y el vocabulario **Sigma**, e inicializa los estados de la tabla de transición, según el grafo de interacción especificado en clases. La función retorna la tabla de transición llena (por defecto, los estados inválidos se llenan con un valor de **ERROR**).\n",
        "\n",
        "Note que la matriz (tabla) de transición (*tt*) la podemos acceder por *fila* y *columna*, donde *fila* es el índice de un estado y *columna* es un símbolo del alfabeto **Sigma** (esto evita recordar la posición de los símbolos):"
      ]
    },
    {
      "cell_type": "code",
      "execution_count": 75,
      "metadata": {
        "id": "tjCSqPtk2jVS"
      },
      "outputs": [],
      "source": [
        "def InicializarFSM(nQ, Sigma):\n",
        "   tt = {}\n",
        "   # Crear tabla de transición vacia (con valor de error)\n",
        "   for numQ in range (nQ):\n",
        "      tt[numQ] = {}\n",
        "      for Simb in Sigma:\n",
        "         tt[numQ][Simb] = _ERROR\n",
        "   # LLenar transiciones no vacias\n",
        "   tt[0]['internet']        = 1\n",
        "   tt[0]['teléfono']        = 2\n",
        "   tt[1]['tarjeta']         = 1\n",
        "   tt[1]['mensual']         = 3\n",
        "   tt[2]['casa']            = 3\n",
        "   tt[2]['departamento']    = 1\n",
        "   return(tt)"
      ]
    },
    {
      "cell_type": "markdown",
      "metadata": {
        "id": "3ajsb0FU2wD-"
      },
      "source": [
        "Ahora definimos la función **EspecificarPreguntas()**, que simplemente especifica las preguntas que el FA realizará al usuario en cada estado, retornando la lista de preguntas posibles (existe una pregunta por cada estado, exceptuando el final):"
      ]
    },
    {
      "cell_type": "code",
      "execution_count": 76,
      "metadata": {
        "id": "Uzy1ghdV2ov_"
      },
      "outputs": [],
      "source": [
        "def EspecificarPreguntas():\n",
        "   Preguntas = [\"Qué servicio requiere? \",\n",
        "                \"¿Qué tipo de cliente? \",\n",
        "                \"¿En qué residencia? \"\n",
        "            ]\n",
        "   return(Preguntas)"
      ]
    },
    {
      "cell_type": "code",
      "execution_count": 77,
      "metadata": {},
      "outputs": [],
      "source": [
        "TablaTransicion = InicializarFSM(Num_Q, Sigma)\n",
        "Preguntas  = EspecificarPreguntas()"
      ]
    },
    {
      "cell_type": "markdown",
      "metadata": {
        "id": "T97C7jtVV_Xy"
      },
      "source": [
        "Comenzamos la interacción con la FSM:"
      ]
    },
    {
      "cell_type": "code",
      "execution_count": 82,
      "metadata": {
        "id": "3VZpHPIeV47K"
      },
      "outputs": [
        {
          "name": "stdout",
          "output_type": "stream",
          "text": [
            "Bienvenido a MasterPlop Comunicaciones..\n",
            "<re.Match object; span=(35, 43), match='internet'>\n",
            "None\n",
            "Error, no se entendió la consulta!\n"
          ]
        }
      ],
      "source": [
        "print(\"Bienvenido a MasterPlop Comunicaciones..\")\n",
        "status = FSM(q0, F, Sigma, Preguntas, TablaTransicion)\n",
        "if (status):\n",
        "    print(\"Transacción aceptada!\")\n",
        "else:\n",
        "    print(\"Error, no se entendió la consulta!\")"
      ]
    }
  ],
  "metadata": {
    "colab": {
      "provenance": []
    },
    "kernelspec": {
      "display_name": "Python 3",
      "name": "python3"
    },
    "language_info": {
      "codemirror_mode": {
        "name": "ipython",
        "version": 3
      },
      "file_extension": ".py",
      "mimetype": "text/x-python",
      "name": "python",
      "nbconvert_exporter": "python",
      "pygments_lexer": "ipython3",
      "version": "3.9.7"
    }
  },
  "nbformat": 4,
  "nbformat_minor": 0
}
